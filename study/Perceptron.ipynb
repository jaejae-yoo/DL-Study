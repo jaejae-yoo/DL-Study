{
  "nbformat": 4,
  "nbformat_minor": 0,
  "metadata": {
    "colab": {
      "name": "Perceptron.ipynb",
      "provenance": [],
      "collapsed_sections": []
    },
    "kernelspec": {
      "name": "python3",
      "display_name": "Python 3"
    }
  },
  "cells": [
    {
      "cell_type": "markdown",
      "metadata": {
        "id": "HsQ6sq6CMv4O",
        "colab_type": "text"
      },
      "source": [
        "# Perceprtron"
      ]
    },
    {
      "cell_type": "markdown",
      "metadata": {
        "id": "YOY1VH99MTNZ",
        "colab_type": "text"
      },
      "source": [
        "퍼셉트론이란 다수의 신호를 입력받아 하나의 신호를 출력하는 것을 말한다.\n",
        "\n",
        "x1, x2는 입력 신호, w1과 w2 가중치, y는 출력 신호를 의미한다.\n",
        "\n",
        "입력 신호가 노드에 보내질 때 각각의 고유한 가중치 w1 과 w2가 곱해지게 되고, 신호의 총합이 임계값을 넘어설 때만 1을 출력한다.\n"
      ]
    },
    {
      "cell_type": "code",
      "metadata": {
        "id": "UT79DPvsMOBZ",
        "colab_type": "code",
        "colab": {
          "base_uri": "https://localhost:8080/",
          "height": 89
        },
        "outputId": "e4b40e9d-c128-4d15-e759-fd3b2ae5247b"
      },
      "source": [
        "#AND 게이트는 모든게 1인 경우에만 1을 출력한다.\n",
        "\n",
        "def AND(x1, x2):\n",
        "  w1, w2, theta = 0.3, 0.3, 0.5\n",
        "  tmp = x1*w1 + x2*w2\n",
        "\n",
        "  if tmp <= theta:    #임계값을 넘지 못 한 경우\n",
        "    return 0\n",
        "  elif tmp > theta:   #임계값을 넘은 경우\n",
        "    return 1\n",
        "\n",
        "print(AND(0, 0)) \n",
        "print(AND(1, 0)) \n",
        "print(AND(0, 1)) \n",
        "print(AND(1, 1)) \n"
      ],
      "execution_count": null,
      "outputs": [
        {
          "output_type": "stream",
          "text": [
            "0\n",
            "0\n",
            "0\n",
            "1\n"
          ],
          "name": "stdout"
        }
      ]
    },
    {
      "cell_type": "code",
      "metadata": {
        "id": "J9SDM2vGMkX5",
        "colab_type": "code",
        "colab": {
          "base_uri": "https://localhost:8080/",
          "height": 71
        },
        "outputId": "babcd395-e8b5-4ac9-93b1-54fe95deb8a7"
      },
      "source": [
        "import numpy as np\n",
        "x = np.array([0,1])\n",
        "w = np.array([0.3,0.3])\n",
        "b = -0.5\n",
        "\n",
        "print(w*x)\n",
        "print(np.sum(w*x))\n",
        "print(np.sum(w*x)+b)\n"
      ],
      "execution_count": null,
      "outputs": [
        {
          "output_type": "stream",
          "text": [
            "[0.  0.3]\n",
            "0.3\n",
            "-0.2\n"
          ],
          "name": "stdout"
        }
      ]
    },
    {
      "cell_type": "code",
      "metadata": {
        "id": "pW6035PLMkht",
        "colab_type": "code",
        "colab": {}
      },
      "source": [
        "def AND(x1, x2):\n",
        "    x = np.array([x1, x2])\n",
        "    w = np.array([0.3, 0.3])\n",
        "    b = -0.5\n",
        "    tmp = np.sum(w*x) + b\n",
        "    if tmp <= 0:\n",
        "        return 0\n",
        "    else:\n",
        "        return 1\n",
        "\n",
        "#NAND 게이트는 모든게 1인 경우에만 0을 출력한다.\n",
        "def NAND(x1, x2):\n",
        "    x = np.array([x1, x2])\n",
        "    w = np.array([-0.3, -0.3])\n",
        "    b = 0.5\n",
        "    tmp = np.sum(w*x) + b\n",
        "    if tmp <= 0:\n",
        "        return 0\n",
        "    else:\n",
        "        return 1\n",
        "\n",
        "#OR 게이트는 하나만 1이 있어도 1을 출력한다.\n",
        "def OR(x1, x2):\n",
        "    x = np.array([x1, x2])\n",
        "    w = np.array([0.3, 0.3])\n",
        "    b = -0.2\n",
        "    tmp = np.sum(w*x) + b\n",
        "    if tmp <= 0:\n",
        "        return 0\n",
        "    else:\n",
        "        return 1\n",
        "\n",
        "#NOR 게이트는 모든게 0인 경우에만 1을 출력한다.\n",
        "def NOR(x1, x2):\n",
        "  x = np.array([x1, x2])\n",
        "  w = np.array([-0.3, -0.3])\n",
        "  b = 0.2\n",
        "  tmp = np.sum(w*x) + b\n",
        "  if tmp <= 0:\n",
        "      return 0\n",
        "  else:\n",
        "      return 1\n",
        "  \n"
      ],
      "execution_count": null,
      "outputs": []
    },
    {
      "cell_type": "code",
      "metadata": {
        "id": "LAeFdthrEFua",
        "colab_type": "code",
        "colab": {
          "base_uri": "https://localhost:8080/",
          "height": 89
        },
        "outputId": "c5aace8d-1657-4e1f-e3c0-6c1677507043"
      },
      "source": [
        "print(NOR(0, 0)) \n",
        "print(NOR(1, 0)) \n",
        "print(NOR(0, 1)) \n",
        "print(NOR(1, 1)) "
      ],
      "execution_count": null,
      "outputs": [
        {
          "output_type": "stream",
          "text": [
            "1\n",
            "0\n",
            "0\n",
            "0\n"
          ],
          "name": "stdout"
        }
      ]
    },
    {
      "cell_type": "code",
      "metadata": {
        "id": "9lLdj32oOuMW",
        "colab_type": "code",
        "colab": {
          "base_uri": "https://localhost:8080/",
          "height": 89
        },
        "outputId": "147da9ec-517f-4baf-a9ac-634e5b66e0f2"
      },
      "source": [
        "#다층 퍼셉트론을 구현하여 비선형 영역을 나타낼 수 있다.\n",
        "\n",
        "def XOR(x1, x2):\n",
        "    s1 = NAND(x1, x2)\n",
        "    s2 = OR(x1, x2)\n",
        "    y = AND(s1, s2)\n",
        "    return y\n",
        "\n",
        "print(XOR(0, 0)) \n",
        "print(XOR(1, 0)) \n",
        "print(XOR(0, 1)) \n",
        "print(XOR(1, 1)) "
      ],
      "execution_count": null,
      "outputs": [
        {
          "output_type": "stream",
          "text": [
            "0\n",
            "1\n",
            "1\n",
            "0\n"
          ],
          "name": "stdout"
        }
      ]
    },
    {
      "cell_type": "code",
      "metadata": {
        "id": "KdeFypv31aXT",
        "colab_type": "code",
        "colab": {
          "base_uri": "https://localhost:8080/",
          "height": 89
        },
        "outputId": "3b282625-da29-45a6-fe4b-d6f6298e51ac"
      },
      "source": [
        "#NAND gate로 OR gate 구현하기\n",
        "\n",
        "def NAND2OR(x1, x2):\n",
        "    s1 = NAND(x1, x1)\n",
        "    s2 = NAND(x2, x2)\n",
        "    y1 = NAND(s1, s2)\n",
        "    return y1\n",
        "\n",
        "print(NAND2OR(0, 0)) \n",
        "print(NAND2OR(1, 0)) \n",
        "print(NAND2OR(0, 1)) \n",
        "print(NAND2OR(1, 1)) \n",
        "\n"
      ],
      "execution_count": null,
      "outputs": [
        {
          "output_type": "stream",
          "text": [
            "0\n",
            "1\n",
            "1\n",
            "1\n"
          ],
          "name": "stdout"
        }
      ]
    }
  ]
}