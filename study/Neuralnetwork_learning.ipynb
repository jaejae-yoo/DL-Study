{
  "nbformat": 4,
  "nbformat_minor": 0,
  "metadata": {
    "colab": {
      "name": "Neuralnetwork_learning.ipynb",
      "provenance": [],
      "collapsed_sections": []
    },
    "kernelspec": {
      "display_name": "Python 3",
      "language": "python",
      "name": "python3"
    },
    "language_info": {
      "codemirror_mode": {
        "name": "ipython",
        "version": 3
      },
      "file_extension": ".py",
      "mimetype": "text/x-python",
      "name": "python",
      "nbconvert_exporter": "python",
      "pygments_lexer": "ipython3",
      "version": "3.7.6"
    },
    "accelerator": "GPU"
  },
  "cells": [
    {
      "cell_type": "code",
      "metadata": {
        "id": "lTl-15PnigV7"
      },
      "source": [
        "#4.2.1 평균 제곱 오차\n",
        "import numpy as np\n",
        "\n",
        "t= [0, 0, 1, 0, 0, 0, 0, 0, 0, 0]\n",
        "\n",
        "def mean_squared_error(y, t):\n",
        "  return 0.5*np.sum((y-t)**2)\n"
      ],
      "execution_count": null,
      "outputs": []
    },
    {
      "cell_type": "code",
      "metadata": {
        "id": "cUYFuBjsjm8c",
        "outputId": "0c991cd1-f3f1-4ee4-8316-96aaaee4499a",
        "colab": {
          "base_uri": "https://localhost:8080/",
          "height": 35
        }
      },
      "source": [
        "# 2일 확률이 가장 높다고 추정함\n",
        "y = [0.2, 0.05, 0.6, 0.0, 0.05, 0.05,0.0, 0.05, 0.0, 0.0]   \n",
        "mean_squared_error(np.array(y), np.array(t))            #오차 낮음"
      ],
      "execution_count": null,
      "outputs": [
        {
          "output_type": "execute_result",
          "data": {
            "text/plain": [
              "0.10500000000000002"
            ]
          },
          "metadata": {
            "tags": []
          },
          "execution_count": 10
        }
      ]
    },
    {
      "cell_type": "code",
      "metadata": {
        "id": "-uxkV4MHjnSy",
        "outputId": "f5d370cc-9ae5-416d-fac4-beba5c5cd8ae",
        "colab": {
          "base_uri": "https://localhost:8080/",
          "height": 35
        }
      },
      "source": [
        "# 3일 확률이 가장 높다고 추정함\n",
        "y = [0.2, 0.05, 0.0, 0.6, 0.05, 0.05, 0.0, 0.05, 0.0, 0.0]\n",
        "mean_squared_error(np.array(y), np.array(t))          #오차 높음"
      ],
      "execution_count": null,
      "outputs": [
        {
          "output_type": "execute_result",
          "data": {
            "text/plain": [
              "0.705"
            ]
          },
          "metadata": {
            "tags": []
          },
          "execution_count": 11
        }
      ]
    },
    {
      "cell_type": "code",
      "metadata": {
        "id": "PS-Ytg55kK37"
      },
      "source": [
        "#4.2.2 교차 엔트로피 오차\n",
        "\n",
        "t= [0, 0, 1, 0, 0, 0, 0, 0, 0, 0]\n",
        "\n",
        "def cross_entropy_error(y, t):\n",
        "  delta = 1e-7\n",
        "  return -np.sum(t*np.log(y+delta))"
      ],
      "execution_count": null,
      "outputs": []
    },
    {
      "cell_type": "code",
      "metadata": {
        "id": "rO-cLs5TkeDR",
        "outputId": "d7888986-208b-402f-eae0-03dad778a04e",
        "colab": {
          "base_uri": "https://localhost:8080/",
          "height": 35
        }
      },
      "source": [
        "# 2일 확률이 가장 높다고 추정함\n",
        "y = [0.2, 0.05, 0.6, 0.0, 0.05, 0.05,0.0, 0.05, 0.0, 0.0]   \n",
        "cross_entropy_error(np.array(y), np.array(t))            #오차 낮음"
      ],
      "execution_count": null,
      "outputs": [
        {
          "output_type": "execute_result",
          "data": {
            "text/plain": [
              "0.510825457099338"
            ]
          },
          "metadata": {
            "tags": []
          },
          "execution_count": 12
        }
      ]
    },
    {
      "cell_type": "code",
      "metadata": {
        "id": "I9EFnM8pkeKX",
        "outputId": "f1e5a9e9-cdce-476f-a1bf-96c4cffbeeb4",
        "colab": {
          "base_uri": "https://localhost:8080/",
          "height": 35
        }
      },
      "source": [
        "# 3일 확률이 가장 높다고 추정함\n",
        "y = [0.2, 0.05, 0.0, 0.6, 0.05, 0.05, 0.0, 0.05, 0.0, 0.0]\n",
        "cross_entropy_error(np.array(y), np.array(t))          #오차 높음"
      ],
      "execution_count": null,
      "outputs": [
        {
          "output_type": "execute_result",
          "data": {
            "text/plain": [
              "16.11809565095832"
            ]
          },
          "metadata": {
            "tags": []
          },
          "execution_count": 13
        }
      ]
    },
    {
      "cell_type": "code",
      "metadata": {
        "id": "DFCyddZ3lCvB",
        "outputId": "37b4a27d-40d9-4136-9794-f383c140da49",
        "colab": {
          "base_uri": "https://localhost:8080/",
          "height": 53
        }
      },
      "source": [
        "#4.2.3 미니배치 학습 \n",
        "import sys\n",
        "import os\n",
        "sys.path.append(os.pardir)\n",
        "from mnist import load_mnist\n",
        "import matplotlib.pylab as plt\n",
        "\n",
        "(x_train, t_train), (x_test, t_test) = \\\n",
        "    load_mnist(normalize=True, one_hot_label=False)\n",
        "\n",
        "print(x_train.shape)  \n",
        "print(t_train.shape)  \n"
      ],
      "execution_count": 7,
      "outputs": [
        {
          "output_type": "stream",
          "text": [
            "(60000, 784)\n",
            "(60000,)\n"
          ],
          "name": "stdout"
        }
      ]
    },
    {
      "cell_type": "code",
      "metadata": {
        "id": "_ed6oWOEGmCt",
        "outputId": "06809af3-11a8-4e44-c17a-41344f7878a4"
      },
      "source": [
        "#램덤으로 10개를 뽑는다.\n",
        "\n",
        "train_size = x_train.shape[0]\n",
        "batch_size = 10\n",
        "batch_mask = np.random.choice(train_size, batch_size)\n",
        "x_batch = x_train[batch_mask]\n",
        "t_batch = t_train[batch_mask]\n",
        "\n",
        "np.random.choice(6000, 10)"
      ],
      "execution_count": null,
      "outputs": [
        {
          "output_type": "execute_result",
          "data": {
            "text/plain": [
              "array([ 753, 4096, 3728, 3395,  419,  266, 4092,  851, 2087, 4356])"
            ]
          },
          "metadata": {
            "tags": []
          },
          "execution_count": 4
        }
      ]
    },
    {
      "cell_type": "code",
      "metadata": {
        "id": "VFr52kEIlr-F"
      },
      "source": [
        "# 4.2.4 (배치용) 교차 엔트로피 오차 구현하기\n",
        "\n",
        "#정답 레이블이 원-핫 인코딩인 경우\n",
        "def cross_entropy_error(y, t):\n",
        "    if y.ndim == 1:\n",
        "        t = t.reshape(1, t.size)\n",
        "        y = y.reshape(1, y.size)\n",
        "\n",
        "    batch_size = y.shape[0]\n",
        "    return -np.sum(t * np.log(y+1e-7)) / batch_size"
      ],
      "execution_count": null,
      "outputs": []
    },
    {
      "cell_type": "code",
      "metadata": {
        "id": "vMsehiCJldUg"
      },
      "source": [
        "#정답 레이블이 숫자 레이블인 경우\n",
        "def cross_entropy_error(y, t):\n",
        "    if y.ndim == 1:\n",
        "        t = t.reshape(1, t.size)\n",
        "        y = y.reshape(1, y.size)\n",
        "\n",
        "    batch_size = y.shape[0]\n",
        "    return -np.sum(t * np.log(y[np.arange(batch_size), t]+1e-7)) / batch_size"
      ],
      "execution_count": null,
      "outputs": []
    },
    {
      "cell_type": "code",
      "metadata": {
        "id": "4ovuTU1gl9rH"
      },
      "source": [
        "# 4.3.1 미분\n",
        "# 나쁜 구현 예\n",
        "\n",
        "def numerical_diff_bad(f, x):\n",
        "    h = 10e-50\n",
        "    return (f(x + h) - f(x)) / h"
      ],
      "execution_count": null,
      "outputs": []
    },
    {
      "cell_type": "code",
      "metadata": {
        "id": "gPO1NV2mGmD_",
        "outputId": "27d739c7-6094-4510-be10-265562ad5dae"
      },
      "source": [
        "np.float32(1e-50)"
      ],
      "execution_count": null,
      "outputs": [
        {
          "output_type": "execute_result",
          "data": {
            "text/plain": [
              "0.0"
            ]
          },
          "metadata": {
            "tags": []
          },
          "execution_count": 7
        }
      ]
    },
    {
      "cell_type": "code",
      "metadata": {
        "id": "RmVCgcIXmBj4"
      },
      "source": [
        "def numerical_diff(f, x):\n",
        "    h = 1e-4\n",
        "    return (f(x + h) - f(x - h)) / (2 * h)"
      ],
      "execution_count": null,
      "outputs": []
    },
    {
      "cell_type": "code",
      "metadata": {
        "id": "CZdJPV4vmCQK"
      },
      "source": [
        "# 4.3.2 수치 미분의 예\n",
        "\n",
        "def function_1(x):\n",
        "    return 0.01*x**2 + 0.1*x"
      ],
      "execution_count": null,
      "outputs": []
    },
    {
      "cell_type": "code",
      "metadata": {
        "id": "ms5NG782mFkC",
        "outputId": "094a1208-44e5-4ee8-d92d-9b1ffd6e6502"
      },
      "source": [
        "x = np.arange(0.0, 30.0, 0.1) \n",
        "y = function_1(x)\n",
        "plt.xlabel(\"x\")\n",
        "plt.ylabel(\"f(x)\")\n",
        "plt.plot(x, y)\n",
        "plt.show()"
      ],
      "execution_count": null,
      "outputs": [
        {
          "output_type": "display_data",
          "data": {
            "image/png": "[encoded data removed]",
            "text/plain": [
              "<Figure size 432x288 with 1 Axes>"
            ]
          },
          "metadata": {
            "tags": [],
            "needs_background": "light"
          }
        }
      ]
    },
    {
      "cell_type": "code",
      "metadata": {
        "id": "SXOkWuIzmJ3a",
        "outputId": "03b654a4-ca86-4f9b-ba56-72a6e5db5938"
      },
      "source": [
        "print(numerical_diff(function_1, 5))   \n",
        "print(numerical_diff(function_1, 10)) "
      ],
      "execution_count": null,
      "outputs": [
        {
          "output_type": "stream",
          "text": [
            "0.1999999999990898\n",
            "0.2999999999986347\n"
          ],
          "name": "stdout"
        }
      ]
    },
    {
      "cell_type": "code",
      "metadata": {
        "id": "Sc9HexVcmKGh"
      },
      "source": [
        "# 4.3.3 편미분\n",
        "\n",
        "def function_2(x):\n",
        "    return x[0]**2 + x[1]**2\n"
      ],
      "execution_count": null,
      "outputs": []
    },
    {
      "cell_type": "code",
      "metadata": {
        "id": "SU2QZFlXmO_U"
      },
      "source": [
        "def function_tmp1(x0):\n",
        "    return x0**2 + 4.0**2.0"
      ],
      "execution_count": null,
      "outputs": []
    },
    {
      "cell_type": "code",
      "metadata": {
        "id": "_wwClfz2mUqx"
      },
      "source": [
        "def function_tmp2(x1):\n",
        "    return 3.0**2.0 + x1 * x1"
      ],
      "execution_count": null,
      "outputs": []
    },
    {
      "cell_type": "code",
      "metadata": {
        "id": "Ugro9MYWmWAe",
        "outputId": "5512a41f-eb4e-432c-f890-bda06aa48904"
      },
      "source": [
        "print(numerical_diff(function_tmp1, 3.0))  \n",
        "print(numerical_diff(function_tmp2, 4.0))  "
      ],
      "execution_count": null,
      "outputs": [
        {
          "output_type": "stream",
          "text": [
            "6.00000000000378\n",
            "7.999999999999119\n"
          ],
          "name": "stdout"
        }
      ]
    },
    {
      "cell_type": "code",
      "metadata": {
        "id": "XSf4jOPPme4d"
      },
      "source": [
        "#4.4 기울기\n",
        "\n",
        "def numerical_gradient(f, x):\n",
        "    h = 1e-4\n",
        "    grad = np.zeros_like(x)\n",
        "\n",
        "    for idx in range(x.size):\n",
        "        tmp_val = x[idx]\n",
        "        # f(x+h) 계산\n",
        "        x[idx] = tmp_val + h\n",
        "        fxh1 = f(x)\n",
        "\n",
        "        # f(x-h) 계산\n",
        "        x[idx] = tmp_val - h\n",
        "        fxh2 = f(x)\n",
        "\n",
        "        grad[idx] = (fxh1 - fxh2) / (2 * h)\n",
        "        x[idx] = tmp_val  \n",
        "\n",
        "    return grad"
      ],
      "execution_count": null,
      "outputs": []
    },
    {
      "cell_type": "code",
      "metadata": {
        "id": "MuHL2Vrjmlk6",
        "outputId": "092a6eee-c2c4-4200-bbf6-08d24b795a9d"
      },
      "source": [
        "print(numerical_gradient(function_2, np.array([3.0, 4.0])))  # [ 6.  8.]\n",
        "print(numerical_gradient(function_2, np.array([0.0, 2.0])))  # [ 0.  4.]\n",
        "print(numerical_gradient(function_2, np.array([3.0, 0.0])))  # [ 6.  0.]"
      ],
      "execution_count": null,
      "outputs": [
        {
          "output_type": "stream",
          "text": [
            "[6. 8.]\n",
            "[0. 4.]\n",
            "[6. 0.]\n"
          ],
          "name": "stdout"
        }
      ]
    },
    {
      "cell_type": "code",
      "metadata": {
        "id": "WSYCjju5mpm-"
      },
      "source": [
        "#4.4.1 경사법(경사 하강법)\n",
        "\n",
        "def gradient_descent(f, init_x, lr=0.01, step_num=100):\n",
        "    x = init_x\n",
        "\n",
        "    for i in range(step_num):\n",
        "        grad = numerical_gradient(f, x)\n",
        "        x -= lr * grad\n",
        "\n",
        "    return x"
      ],
      "execution_count": null,
      "outputs": []
    },
    {
      "cell_type": "code",
      "metadata": {
        "id": "2_oP5bPam6xN",
        "outputId": "709485ce-1235-4532-d795-71382e38d02c"
      },
      "source": [
        "init_x = np.array([-3.0, 4.0])\n",
        "gradient_descent(function_2, init_x=init_x, lr=0.1, step_num=100)"
      ],
      "execution_count": null,
      "outputs": [
        {
          "output_type": "execute_result",
          "data": {
            "text/plain": [
              "array([-6.11110793e-10,  8.14814391e-10])"
            ]
          },
          "metadata": {
            "tags": []
          },
          "execution_count": 30
        }
      ]
    },
    {
      "cell_type": "code",
      "metadata": {
        "id": "siGrnoQOnUYG",
        "outputId": "35f30eb9-82a8-4034-83d2-79871cee88b8"
      },
      "source": [
        "# 학습률이 너무 큼\n",
        "init_x = np.array([-3.0, 4.0])\n",
        "gradient_descent(function_2, init_x=init_x, lr=10.0, step_num=100)"
      ],
      "execution_count": null,
      "outputs": [
        {
          "output_type": "execute_result",
          "data": {
            "text/plain": [
              "array([-2.58983747e+13, -1.29524862e+12])"
            ]
          },
          "metadata": {
            "tags": []
          },
          "execution_count": 31
        }
      ]
    },
    {
      "cell_type": "code",
      "metadata": {
        "id": "Q80Kbe52GmGB",
        "outputId": "d41be432-3355-4eb4-90e7-8a05cf20f5d5"
      },
      "source": [
        "# 학습률이 너무 작음\n",
        "init_x = np.array([-3.0, 4.0])\n",
        "gradient_descent(function_2, init_x=init_x, lr=1e-10, step_num=100)"
      ],
      "execution_count": null,
      "outputs": [
        {
          "output_type": "execute_result",
          "data": {
            "text/plain": [
              "array([-2.99999994,  3.99999992])"
            ]
          },
          "metadata": {
            "tags": []
          },
          "execution_count": 32
        }
      ]
    },
    {
      "cell_type": "code",
      "metadata": {
        "id": "mvm8Pa45nUsU"
      },
      "source": [
        "sys.path.append(os.pardir)\n",
        "from functions import softmax, cross_entropy_error\n",
        "from gradient import numerical_gradient\n",
        "\n",
        "# 4.4.2 신경망에서의 기울기\n",
        "class simpleNet:\n",
        "    def __init__(self):\n",
        "        self.W = np.random.randn(2, 3)  \n",
        "\n",
        "    def predict(self, x):\n",
        "        return np.dot(x, self.W)\n",
        "\n",
        "    def loss(self, x, t):\n",
        "        z = self.predict(x)\n",
        "        y = softmax(z)\n",
        "        loss = cross_entropy_error(y, t)\n",
        "\n",
        "        return loss\n"
      ],
      "execution_count": null,
      "outputs": []
    },
    {
      "cell_type": "code",
      "metadata": {
        "id": "V7AnsO5fnl2x",
        "outputId": "d4493635-3b35-44c9-e8a9-671c7c0ae47b"
      },
      "source": [
        "net = simpleNet()\n",
        "print(net.W)  \n",
        "\n",
        "x = np.array([0.6, 0.9])\n",
        "p = net.predict(x)\n",
        "print(p)\n",
        "\n",
        "print(np.argmax(p))  \n",
        "\n",
        "t = np.array([0, 0, 1])  \n",
        "print(net.loss(x, t))\n"
      ],
      "execution_count": null,
      "outputs": [
        {
          "output_type": "stream",
          "text": [
            "[[ 0.37844373 -0.96011868  0.88665846]\n",
            " [-1.11394563  0.35703541  0.07191872]]\n",
            "[-0.77548483 -0.25473934  0.59672193]\n",
            "2\n",
            "0.5189945858946563\n"
          ],
          "name": "stdout"
        }
      ]
    },
    {
      "cell_type": "code",
      "metadata": {
        "id": "4gwL39JZnpL5",
        "outputId": "0f3d3ab6-d25b-4268-c34f-81b9a12e8eaa"
      },
      "source": [
        "def f(W):\n",
        "    return net.loss(x, t)\n",
        "\n",
        "dW = numerical_gradient(f, net.W)\n",
        "print(dW)"
      ],
      "execution_count": null,
      "outputs": [
        {
          "output_type": "stream",
          "text": [
            "[[ 0.09053423  0.15239464 -0.24292887]\n",
            " [ 0.13580134  0.22859196 -0.3643933 ]]\n"
          ],
          "name": "stdout"
        }
      ]
    },
    {
      "cell_type": "code",
      "metadata": {
        "id": "BUsuiny3GmGj"
      },
      "source": [
        "#lambda로 표현\n",
        "\n",
        "f = lambda w: net.loss(x, t)\n",
        "dW = dW = numerical_gradient(f, net.W)"
      ],
      "execution_count": null,
      "outputs": []
    },
    {
      "cell_type": "code",
      "metadata": {
        "id": "SEXpua0yntp3"
      },
      "source": [
        "#4.5.1 2층 신경망 클래스 구현하기 \n",
        "\n",
        "sys.path.append(os.pardir) \n",
        "from functions import *\n",
        "from gradient import numerical_gradient\n",
        "\n",
        "\n",
        "class TwoLayerNet:\n",
        "    def __init__(self, input_size, hidden_size, output_size, weight_init_std=0.01):\n",
        "        self.params = {}\n",
        "        self.params['W1'] = weight_init_std * np.random.randn(input_size, hidden_size)\n",
        "        self.params['b1'] = np.zeros(hidden_size)\n",
        "        self.params['W2'] = weight_init_std * np.random.randn(hidden_size, output_size)\n",
        "        self.params['b2'] = np.zeros(output_size)\n",
        "\n",
        "    def predict(self, x):\n",
        "        W1, W2 = self.params['W1'], self.params['W2']\n",
        "        b1, b2 = self.params['b1'], self.params['b2']\n",
        "    \n",
        "        a1 = np.dot(x, W1) + b1\n",
        "        z1 = sigmoid(a1)\n",
        "        a2 = np.dot(z1, W2) + b2\n",
        "        y = softmax(a2)\n",
        "        \n",
        "        return y\n",
        "        \n",
        "    # x : 입력 데이터, t : 정답 레이블\n",
        "    def loss(self, x, t):\n",
        "        y = self.predict(x)\n",
        "\n",
        "        return cross_entropy_error(y, t)\n",
        "\n",
        "    def accuracy(self, x, t):\n",
        "        y = self.predict(x)\n",
        "        y = np.argmax(y, axis=1)\n",
        "        t = np.argmax(t, axis=1)\n",
        "\n",
        "        accuracy = np.sum(y == t) / float(x.shape[0])\n",
        "        return accuracy\n",
        "\n",
        "    # x : 입력 데이터, t : 정답 레이블\n",
        "    def numerical_gradient(self, x, t):\n",
        "        loss_W = lambda W: self.loss(x, t)\n",
        "\n",
        "        grads = {}\n",
        "        grads['W1'] = numerical_gradient(loss_W, self.params['W1'])\n",
        "        grads['b1'] = numerical_gradient(loss_W, self.params['b1'])\n",
        "        grads['W2'] = numerical_gradient(loss_W, self.params['W2'])\n",
        "        grads['b2'] = numerical_gradient(loss_W, self.params['b2'])\n",
        "\n",
        "        return grads"
      ],
      "execution_count": null,
      "outputs": []
    },
    {
      "cell_type": "code",
      "metadata": {
        "id": "Nw3XxRJJGmGw",
        "outputId": "4d6d27a1-67e3-4b4c-fe72-e833bab68ab3"
      },
      "source": [
        "net = TwoLayerNet(input_size=784, hidden_size=100, output_size=10)\n",
        "net.params['W1'].shape\n",
        "net.params['b1'].shape\n",
        "net.params['W2'].shape\n",
        "net.params['b2'].shape"
      ],
      "execution_count": null,
      "outputs": [
        {
          "output_type": "execute_result",
          "data": {
            "text/plain": [
              "(10,)"
            ]
          },
          "metadata": {
            "tags": []
          },
          "execution_count": 42
        }
      ]
    },
    {
      "cell_type": "code",
      "metadata": {
        "id": "FpRu8FY9GmG2"
      },
      "source": [
        "x = np.random.rand(100, 784)\n",
        "y = net.predict(x)"
      ],
      "execution_count": null,
      "outputs": []
    },
    {
      "cell_type": "code",
      "metadata": {
        "id": "fu7D_FM7GmG9",
        "outputId": "88af5ff5-9dc1-407f-e88c-1a607e5015ce"
      },
      "source": [
        "x = np.random.rand(100, 784)\n",
        "t = np.random.rand(100, 10)\n",
        "\n",
        "grads = net.numerical_gradient(x, t)\n",
        "net.params['W1'].shape\n",
        "net.params['b1'].shape\n",
        "net.params['W2'].shape\n",
        "net.params['b2'].shape"
      ],
      "execution_count": null,
      "outputs": [
        {
          "output_type": "execute_result",
          "data": {
            "text/plain": [
              "(10,)"
            ]
          },
          "metadata": {
            "tags": []
          },
          "execution_count": 45
        }
      ]
    },
    {
      "cell_type": "code",
      "metadata": {
        "id": "4Ob9RPVqKJKh",
        "outputId": "6f246f4e-5a58-4963-e6a6-68ba9714c5df",
        "colab": {
          "base_uri": "https://localhost:8080/",
          "height": 35
        }
      },
      "source": [
        "from google.colab import drive\n",
        "drive.mount('/content/drive')"
      ],
      "execution_count": 1,
      "outputs": [
        {
          "output_type": "stream",
          "text": [
            "Mounted at /content/drive\n"
          ],
          "name": "stdout"
        }
      ]
    },
    {
      "cell_type": "code",
      "metadata": {
        "id": "JdU6pSmJKQGD",
        "outputId": "dba1591e-745e-4c84-db35-fcb9526277ed",
        "colab": {
          "base_uri": "https://localhost:8080/",
          "height": 35
        }
      },
      "source": [
        "pwd"
      ],
      "execution_count": 2,
      "outputs": [
        {
          "output_type": "execute_result",
          "data": {
            "application/vnd.google.colaboratory.intrinsic+json": {
              "type": "string"
            },
            "text/plain": [
              "'/content'"
            ]
          },
          "metadata": {
            "tags": []
          },
          "execution_count": 2
        }
      ]
    },
    {
      "cell_type": "code",
      "metadata": {
        "id": "XjHXH6qAK-oJ",
        "outputId": "f0aca6f4-34cd-417f-8263-b04a98e082b7",
        "colab": {
          "base_uri": "https://localhost:8080/",
          "height": 35
        }
      },
      "source": [
        " %cd /content/drive/My\\ Drive/DL"
      ],
      "execution_count": 4,
      "outputs": [
        {
          "output_type": "stream",
          "text": [
            "/content/drive/My Drive/DL\n"
          ],
          "name": "stdout"
        }
      ]
    },
    {
      "cell_type": "code",
      "metadata": {
        "id": "nKunPOquGmHE"
      },
      "source": [
        "from mnist import load_mnist\n",
        "from two_layer_net import TwoLayerNet\n",
        "import sys,os\n",
        "sys.path.append(os.pardir)\n",
        "import numpy as np\n",
        "\n",
        "# 4.5.2 미니배치 학습 구현하기\n",
        "\n",
        "(x_train, t_train), (x_test, t_test) = \\\n",
        "    load_mnist(normalize=True, one_hot_label=True)\n",
        "\n",
        "train_loss_list=[]\n",
        "\n",
        "# 하이퍼 파라메터\n",
        "iters_num = 10000 \n",
        "train_size = x_train.shape[0]\n",
        "batch_size = 100  \n",
        "learning_rate = 0.1\n",
        "network = TwoLayerNet(input_size=784, hidden_size=50, output_size=10)\n",
        "\n",
        "for i in range(iters_num):\n",
        "    # 미니배치 획득\n",
        "    batch_mask = np.random.choice(train_size, batch_size)\n",
        "    x_batch = x_train[batch_mask]\n",
        "    t_batch = t_train[batch_mask]\n",
        "\n",
        "    # 기울기 계산\n",
        "    #grad = network.numerical_gradient(x_batch, t_batch)\n",
        "    grad = network.gradient(x_batch, t_batch) #성능 개선판\n",
        "\n",
        "    # 매개변수 갱신\n",
        "    for key in ('W1', 'b1', 'W2', 'b2'):\n",
        "        network.params[key] -= learning_rate * grad[key]\n",
        "\n",
        "    # 학습 경과 기록\n",
        "    loss = network.loss(x_batch, t_batch)\n",
        "    train_loss_list.append(loss)\n",
        "\n"
      ],
      "execution_count": 5,
      "outputs": []
    },
    {
      "cell_type": "code",
      "metadata": {
        "id": "WsqN4uykGRnB",
        "outputId": "2c9a0e91-20cd-4802-c32d-d324f5447d13",
        "colab": {
          "base_uri": "https://localhost:8080/",
          "height": 279
        }
      },
      "source": [
        "x = np.arange(0.0, 10000, 1) \n",
        "plt.xlabel(\"iteration\")\n",
        "plt.ylabel(\"loss\")\n",
        "plt.plot(x, train_loss_list)\n",
        "plt.show()"
      ],
      "execution_count": 8,
      "outputs": [
        {
          "output_type": "display_data",
          "data": {
            "image/png": "[encoded data removed]",
            "text/plain": [
              "<Figure size 432x288 with 1 Axes>"
            ]
          },
          "metadata": {
            "tags": [],
            "needs_background": "light"
          }
        }
      ]
    },
    {
      "cell_type": "code",
      "metadata": {
        "id": "S3YkICzvn3W4",
        "outputId": "feb74a4c-2642-4f88-c911-0bc3049b58c4",
        "colab": {
          "base_uri": "https://localhost:8080/",
          "height": 323
        }
      },
      "source": [
        "sys.path.append(os.pardir)\n",
        "# 4.5.3 시험 데이터로 평가하기\n",
        "\n",
        "(x_train, t_train), (x_test, t_test) = \\\n",
        "    load_mnist(normalize=True, one_hot_label=True)\n",
        "\n",
        "network = TwoLayerNet(input_size=784, hidden_size=100, output_size=10)\n",
        "\n",
        "iters_num = 10000  # 반복횟수\n",
        "train_size = x_train.shape[0]\n",
        "batch_size = 100  # 미니배치 크기\n",
        "learning_rate = 0.1\n",
        "\n",
        "train_loss_list = []\n",
        "train_acc_list = []\n",
        "test_acc_list = []\n",
        "\n",
        "# 1에폭당 반복 수\n",
        "iter_per_epoch = max(train_size / batch_size, 1)\n",
        "for i in range(iters_num):\n",
        "    batch_mask = np.random.choice(train_size, batch_size)\n",
        "    x_batch = x_train[batch_mask]\n",
        "    t_batch = t_train[batch_mask]\n",
        "\n",
        "    # 기울기 계산\n",
        "    #grad = network.numerical_gradient(x_batch, t_batch)\n",
        "    grad = network.gradient(x_batch, t_batch) \n",
        "\n",
        "    # 매개변수 갱신\n",
        "    for key in ('W1', 'b1', 'W2', 'b2'):\n",
        "        network.params[key] -= learning_rate * grad[key]\n",
        "\n",
        "    # 학습 경과 기록\n",
        "    loss = network.loss(x_batch, t_batch)\n",
        "    train_loss_list.append(loss)\n",
        "\n",
        "    # 1에폭 당 정확도 계산\n",
        "    if i % iter_per_epoch == 0:\n",
        "        train_acc = network.accuracy(x_train, t_train)\n",
        "        test_acc = network.accuracy(x_test, t_test)\n",
        "        train_acc_list.append(train_acc)\n",
        "        test_acc_list.append(test_acc)\n",
        "        print(\"train acc, test acc | \"\n",
        "              + str(train_acc) + \", \" + str(test_acc))\n"
      ],
      "execution_count": 9,
      "outputs": [
        {
          "output_type": "stream",
          "text": [
            "train acc, test acc | 0.09736666666666667, 0.0982\n",
            "train acc, test acc | 0.8205833333333333, 0.8213\n",
            "train acc, test acc | 0.8830833333333333, 0.887\n",
            "train acc, test acc | 0.9001166666666667, 0.9028\n",
            "train acc, test acc | 0.9076333333333333, 0.9105\n",
            "train acc, test acc | 0.9147, 0.9163\n",
            "train acc, test acc | 0.91805, 0.9199\n",
            "train acc, test acc | 0.9223, 0.9231\n",
            "train acc, test acc | 0.92615, 0.927\n",
            "train acc, test acc | 0.9304333333333333, 0.9322\n",
            "train acc, test acc | 0.9326166666666666, 0.9344\n",
            "train acc, test acc | 0.936, 0.9366\n",
            "train acc, test acc | 0.93865, 0.939\n",
            "train acc, test acc | 0.94085, 0.9386\n",
            "train acc, test acc | 0.9427666666666666, 0.9415\n",
            "train acc, test acc | 0.9444833333333333, 0.9428\n",
            "train acc, test acc | 0.9459, 0.9445\n"
          ],
          "name": "stdout"
        }
      ]
    },
    {
      "cell_type": "code",
      "metadata": {
        "id": "HLvX6vHdQviS",
        "outputId": "16cf117f-4450-4f55-cb11-0a3e1b1934a0",
        "colab": {
          "base_uri": "https://localhost:8080/",
          "height": 53
        }
      },
      "source": [
        "print(len(train_acc_list))\n",
        "print(len(test_acc_list))"
      ],
      "execution_count": 10,
      "outputs": [
        {
          "output_type": "stream",
          "text": [
            "17\n",
            "17\n"
          ],
          "name": "stdout"
        }
      ]
    },
    {
      "cell_type": "code",
      "metadata": {
        "id": "phFR_mQmJPeG",
        "outputId": "8cc8928b-d0b1-47be-e389-a0f4eb7525e1",
        "colab": {
          "base_uri": "https://localhost:8080/",
          "height": 279
        }
      },
      "source": [
        "x1 = np.arange(0, 17, 1) \n",
        "x2 = np.arange(0, 17, 1) \n",
        "plt.xlabel(\"epochs\")\n",
        "plt.ylabel(\"accuracy\")\n",
        "plt.plot(x1, train_acc_list)\n",
        "line2 = plt.plot(x2, test_acc_list)\n",
        "plt.setp(line2, color='r', linestyle = ':')\n",
        "plt.show()"
      ],
      "execution_count": 17,
      "outputs": [
        {
          "output_type": "display_data",
          "data": {
            "image/png": "[encoded data removed]",
            "text/plain": [
              "<Figure size 432x288 with 1 Axes>"
            ]
          },
          "metadata": {
            "tags": [],
            "needs_background": "light"
          }
        }
      ]
    }
  ]
}