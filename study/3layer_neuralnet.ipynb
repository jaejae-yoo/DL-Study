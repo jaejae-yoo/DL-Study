{
  "nbformat": 4,
  "nbformat_minor": 0,
  "metadata": {
    "colab": {
      "name": "3layer_neuralnet.ipynb",
      "provenance": [],
      "collapsed_sections": []
    },
    "kernelspec": {
      "name": "python3",
      "display_name": "Python 3"
    }
  },
  "cells": [
    {
      "cell_type": "markdown",
      "metadata": {
        "id": "NBHpyG2H1-7G",
        "colab_type": "text"
      },
      "source": [
        "#### 입력층(0층)에 뉴런 2개와 편향 뉴런 1개, 첫 번째 은닉층(1층) 3개, 두 번째 은닉층(2층) 2개 출력층(3층)으로 구성된 신경망 구현.  "
      ]
    },
    {
      "cell_type": "markdown",
      "metadata": {
        "id": "jTdzp5ye8jiv",
        "colab_type": "text"
      },
      "source": [
        "#3층 신경망 수식 표현"
      ]
    },
    {
      "cell_type": "markdown",
      "metadata": {
        "id": "vWIAVLyLx_ZU",
        "colab_type": "text"
      },
      "source": [
        "### <input layer에서 1 layer로 신호 전달>\n",
        "\n",
        "\n",
        "  a1(1) = w11(1) * x1 + w12 (1)* x2 + b1(1)\n",
        "\n",
        "  a2(1) = w21(1) * x1 + w22(1) * x 2 + b2(1)\n",
        "\n",
        "  a3(1) = w31(1) * x1 + w32 (1)* x2 + b3(1)\n",
        "  \n",
        "\n",
        "  A(1) = W(1) * X + B(1)"
      ]
    },
    {
      "cell_type": "markdown",
      "metadata": {
        "id": "6r7KFY92yHiY",
        "colab_type": "text"
      },
      "source": [
        "### <1 layer에서 2 layer로 신호 전달>\n",
        "\n",
        "\n",
        "  a1(2) = w11(2) * z1(1)1 + w12 (2)* z2(1) + w13(2)* z3(1) + b1(2)\n",
        "\n",
        "  a2(2) = w21(2) * z1(1) + w22(2) * z2(1) + w23(2)* z3(1) + b2(2)\n",
        "\n",
        "  \n",
        "\n",
        "  A(2) = W(2) * Z(1) + B(2)"
      ]
    },
    {
      "cell_type": "markdown",
      "metadata": {
        "id": "fSM8wHLZztPX",
        "colab_type": "text"
      },
      "source": [
        "### <2 layer에서 output layer로 신호 전달>\n",
        "\n",
        "\n",
        "  a1(3) = w11(3) * z1(2)1 + w12 (3)* z2(2) + b1(3)\n",
        "\n",
        "  a2(3) = w21(3) * z1(2) + w22(3) * z2(2) + b2(3)\n",
        "\n",
        "  \n",
        "  A(3) = W(3) * Z(2) + B(3)"
      ]
    },
    {
      "cell_type": "markdown",
      "metadata": {
        "id": "QRanE1-_3Ft1",
        "colab_type": "text"
      },
      "source": [
        "\n",
        "\n",
        "---\n",
        "\n"
      ]
    },
    {
      "cell_type": "markdown",
      "metadata": {
        "id": "lK8RzneJ8w4w",
        "colab_type": "text"
      },
      "source": [
        "# 구현"
      ]
    },
    {
      "cell_type": "code",
      "metadata": {
        "id": "ndSZIbNcxeaM",
        "colab_type": "code",
        "colab": {}
      },
      "source": [
        "import numpy as np\n",
        "\n",
        "def sigmoid(x):\n",
        "    return 1 / (1 + np.exp(-x))\n",
        "\n",
        "def identity_function(x):\n",
        "    return x\n",
        "\n",
        "#입력층\n",
        "X = np.array([1.0, 0.5])\n",
        "W1 = np.array([[0.1, 0.3, 0.5],[0.2, 0.4, 0.6]])\n",
        "B1 = np.array([0.1, 0.2, 0.3])\n",
        "\n",
        "A1 = np.dot(X, W1) + B1\n",
        "\n",
        "#1층에서 2층으로 신호 전달\n",
        "Z1 = sigmoid(A1)\n",
        "W2 = np.array([[0.1, 0.4],[0.2, 0.5],[0.3, 0.6]])\n",
        "B2 = np.array([0.1, 0.2])\n",
        "\n",
        "A2 = np.dot(Z1, W2) + B2\n",
        "\n",
        "#2층에서 출력층으로 신호 전달\n",
        "Z2 = sigmoid(A2)\n",
        "\n",
        "W3 = np.array([[0.1, 0.3],[0.2, 0.4]])\n",
        "B3 = np.array([0.1, 0.2])\n",
        "\n",
        "A3 = np.dot(Z2, W3) + B3\n",
        "#출력\n",
        "Y = identity_function(A3)"
      ],
      "execution_count": 5,
      "outputs": []
    }
  ]
}